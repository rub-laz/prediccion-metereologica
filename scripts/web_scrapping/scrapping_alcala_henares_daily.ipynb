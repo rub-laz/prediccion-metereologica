{
 "cells": [
  {
   "cell_type": "code",
   "execution_count": null,
   "metadata": {},
   "outputs": [
    {
     "name": "stdout",
     "output_type": "stream",
     "text": [
      "Información del Dataset:\n",
      "{'fecha': '2023-01-01', 'indicativo': '3170Y', 'nombre': 'ALCALA DE HENARES', 'provincia': 'MADRID', 'altitud': '605', 'tmed': '10,6', 'prec': '0,0', 'tmin': '3,9', 'horatmin': '00:01', 'tmax': '17,2', 'horatmax': '14:15', 'dir': '19', 'velmedia': '0,6', 'racha': '10,0', 'horaracha': '22:10', 'hrMedia': '64', 'hrMax': '89', 'horaHrMax': '00:00', 'hrMin': '37', 'horaHrMin': '14:30'}\n",
      "Archivo datos_meteorologicos_2023_1.json creado con éxito.\n",
      "Información del Dataset:\n",
      "{'fecha': '2023-07-01', 'indicativo': '3170Y', 'nombre': 'ALCALA DE HENARES', 'provincia': 'MADRID', 'altitud': '605', 'tmed': '24,4', 'prec': '0,0', 'tmin': '15,2', 'horatmin': '04:37', 'tmax': '33,5', 'horatmax': '16:31', 'dir': '05', 'velmedia': '2,5', 'racha': '7,5', 'horaracha': '23:20', 'hrMedia': '40', 'hrMax': '68', 'horaHrMax': '04:40', 'hrMin': '31', 'horaHrMin': 'Varias'}\n",
      "Archivo datos_meteorologicos_2023_2.json creado con éxito.\n",
      "Información del Dataset:\n",
      "{'fecha': '2024-01-01', 'indicativo': '3170Y', 'nombre': 'ALCALA DE HENARES', 'provincia': 'MADRID', 'altitud': '605', 'tmed': '5,8', 'prec': '0,0', 'tmin': '1,2', 'horatmin': 'Varias', 'tmax': '10,3', 'horatmax': '15:04', 'dir': '24', 'velmedia': '1,7', 'racha': '5,6', 'horaracha': '14:40', 'hrMedia': '87', 'hrMax': '98', 'horaHrMax': '09:10', 'hrMin': '64', 'horaHrMin': '15:30'}\n",
      "Archivo datos_meteorologicos_2024_3.json creado con éxito.\n",
      "Información del Dataset:\n",
      "{'fecha': '2024-07-01', 'indicativo': '3170Y', 'nombre': 'ALCALA DE HENARES', 'provincia': 'MADRID', 'altitud': '605', 'tmed': '22,7', 'prec': '0,0', 'tmin': '14,4', 'horatmin': '05:14', 'tmax': '31,0', 'horatmax': '16:07', 'dir': '03', 'velmedia': '2,5', 'racha': '9,4', 'horaracha': '21:00', 'hrMedia': '43', 'hrMax': '84', 'horaHrMax': 'Varias', 'hrMin': '26', 'horaHrMin': '18:00'}\n",
      "Archivo datos_meteorologicos_2024_4.json creado con éxito.\n",
      "Información del Dataset:\n",
      "{'fecha': '2025-01-01', 'indicativo': '3170Y', 'nombre': 'ALCALA DE HENARES', 'provincia': 'MADRID', 'altitud': '605', 'tmed': '4,1', 'prec': '0,0', 'tmin': '-3,5', 'horatmin': '04:33', 'tmax': '11,7', 'horatmax': '13:50', 'dir': '07', 'velmedia': '0,8', 'racha': '4,4', 'horaracha': '08:50', 'hrMedia': '74', 'hrMax': '93', 'horaHrMax': '08:30', 'hrMin': '57', 'horaHrMin': '15:50'}\n",
      "Archivo datos_meteorologicos_2025_5.json creado con éxito.\n"
     ]
    }
   ],
   "source": [
    "# --------------------------------------------------------------ALCALA DE HENARES-----------------------------------------------------------------\n",
    "import requests\n",
    "import pandas as pd\n",
    "import json\n",
    "import os\n",
    "\n",
    "# URLs de la API\n",
    "base_url = [\n",
    "    \"https://opendata.aemet.es/opendata/sh/b951b45b\",\n",
    "    \"https://opendata.aemet.es/opendata/sh/dcc426ce\",\n",
    "    \"https://opendata.aemet.es/opendata/sh/63268994\",\n",
    "    \"https://opendata.aemet.es/opendata/sh/e929af27\",\n",
    "    \"https://opendata.aemet.es/opendata/sh/d8350d71\",\n",
    "    \n",
    "]\n",
    "\n",
    "anio = 2023  # Año inicial\n",
    "contador = 0  # Contador de iteraciones\n",
    "\n",
    "for url in base_url:\n",
    "    response = requests.get(url)\n",
    "\n",
    "    if response.status_code == 200:\n",
    "        # Parsear los datos en formato JSON\n",
    "        data = response.json()\n",
    "        print(\"Información del Dataset:\")\n",
    "        print(data[0])\n",
    "\n",
    "        # Determinar el nombre del archivo basado en contador\n",
    "        nombre_archivo = f\"datos_meteorologicos_Alcala_Henares_{anio}_{contador + 1}.json\"\n",
    "\n",
    "        # Guardar en JSON\n",
    "        with open(nombre_archivo, \"w\", encoding=\"utf-8\") as archivo:\n",
    "            json.dump(data, archivo, indent=4, ensure_ascii=False)\n",
    "\n",
    "        print(f\"Archivo {nombre_archivo} creado con éxito.\")\n",
    "\n",
    "        # Leer JSON en un DataFrame\n",
    "        df = pd.read_json(nombre_archivo, encoding=\"utf-8\")\n",
    "        \n",
    "        contador += 1\n",
    "\n",
    "        # Cambiar el año cada dos iteraciones\n",
    "        if contador % 2 == 0:\n",
    "            anio += 1\n"
   ]
  },
  {
   "cell_type": "code",
   "execution_count": null,
   "metadata": {},
   "outputs": [
    {
     "name": "stdout",
     "output_type": "stream",
     "text": [
      "✅ Archivo CSV creado: datos_combinados.csv\n"
     ]
    }
   ],
   "source": [
    "# --------------------------------------------------------------ALCALA DE HENARES-----------------------------------------------------------------\n",
    "# Carpeta donde tienes los archivos JSON\n",
    "base_dir = os.getcwd()\n",
    "carpeta_json = os.path.join(\n",
    "    base_dir, \"..\",\"..\", \"data\", \"raw\",\"aemet\",\"Alcala_Henares\"\n",
    ")\n",
    " \n",
    "\n",
    "# Lista para almacenar los DataFrames\n",
    "dataframes = []\n",
    "\n",
    "# Recorrer todos los archivos JSON en la carpeta\n",
    "for archivo in os.listdir(carpeta_json):\n",
    "    if archivo.endswith(\".json\"):  # Filtrar solo los archivos JSON\n",
    "        ruta_completa = os.path.join(carpeta_json, archivo)\n",
    "        \n",
    "        # Leer el archivo JSON\n",
    "        with open(ruta_completa, \"r\", encoding=\"utf-8\") as f:\n",
    "            data = json.load(f)\n",
    "        \n",
    "        # Convertir a DataFrame\n",
    "        df = pd.DataFrame(data) \n",
    "        dataframes.append(df)\n",
    "\n",
    "# Concatenar todos los DataFrames\n",
    "df_final = pd.concat(dataframes, ignore_index=True)\n",
    "\n",
    "# Guardar en un archivo CSV\n",
    "base_dir = os.getcwd()\n",
    "ruta_path = os.path.join(\n",
    "    base_dir, \"..\",\"..\", \"data\", \"raw\",\"aemet\",\"Alcala_Henares\", \"datos_combinados_Alcala_Henares.csv\"\n",
    ")\n",
    "df_final.to_csv(ruta_path, index=False, encoding=\"utf-8\")\n",
    "\n",
    "print(\"✅ Archivo CSV creado: datos_combinados.csv\")\n"
   ]
  },
  {
   "cell_type": "code",
   "execution_count": null,
   "metadata": {},
   "outputs": [],
   "source": []
  }
 ],
 "metadata": {
  "kernelspec": {
   "display_name": "Python 3",
   "language": "python",
   "name": "python3"
  },
  "language_info": {
   "codemirror_mode": {
    "name": "ipython",
    "version": 3
   },
   "file_extension": ".py",
   "mimetype": "text/x-python",
   "name": "python",
   "nbconvert_exporter": "python",
   "pygments_lexer": "ipython3",
   "version": "3.12.0"
  }
 },
 "nbformat": 4,
 "nbformat_minor": 2
}
